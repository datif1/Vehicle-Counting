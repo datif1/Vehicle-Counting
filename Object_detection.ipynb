{
 "cells": [
  {
   "cell_type": "code",
   "execution_count": null,
   "metadata": {},
   "outputs": [],
   "source": [
    "# %pip install ultralytics"
   ]
  },
  {
   "cell_type": "code",
   "execution_count": null,
   "metadata": {},
   "outputs": [],
   "source": [
    "%pip list"
   ]
  },
  {
   "cell_type": "code",
   "execution_count": null,
   "metadata": {},
   "outputs": [],
   "source": [
    "import cv2\n",
    "from ultralytics import YOLO\n",
    "from ultralytics.solutions import object_counter\n",
    "import os"
   ]
  },
  {
   "cell_type": "code",
   "execution_count": null,
   "metadata": {},
   "outputs": [],
   "source": [
    "# Suppress a warning related to Intel's OpenMP library\n",
    "os.environ[\"KMP_DUPLICATE_LIB_OK\"] = \"TRUE\"\n",
    "\n",
    "# Path to the video file\n",
    "video_path = r\"C:\\Users\\atifd\\Downloads\\Kimironko.mp4\"\n",
    "\n",
    "# Open the video file\n",
    "cap = cv2.VideoCapture(video_path)\n",
    "\n",
    "# Check if the video file is successfully opened\n",
    "if not cap.isOpened():\n",
    "    print(\"Error: Couldn't open the video file.\")\n",
    "    exit()\n",
    "\n",
    "# Initialize YOLO model with pre-trained weights\n",
    "model = YOLO(\"yolov8n.pt\")\n",
    "\n",
    "# Get the width and height of the video frame\n",
    "frame_width = int(cap.get(cv2.CAP_PROP_FRAME_WIDTH))\n",
    "frame_height = int(cap.get(cv2.CAP_PROP_FRAME_HEIGHT))\n",
    "\n",
    "# Define the region points to cover the entire frame\n",
    "region_points = [(0, 0), (frame_width, 0), (frame_width, frame_height), (0, frame_height)]\n",
    "\n",
    "# Initialize Object Counter\n",
    "counter = object_counter.ObjectCounter()\n",
    "counter.set_args(view_img=True, reg_pts=region_points, classes_names=model.names, draw_tracks=True)\n",
    "\n",
    "# Create a display window with the same width and height as the video frame\n",
    "cv2.namedWindow(\"Video\", cv2.WINDOW_NORMAL)\n",
    "cv2.resizeWindow(\"Video\", frame_width, frame_height)\n",
    "\n",
    "# Read and display frames until the video is over\n",
    "while cap.isOpened():\n",
    "    # Read a frame from the video\n",
    "    ret, frame = cap.read()\n",
    "\n",
    "    # Check if the frame is successfully read\n",
    "    if not ret:\n",
    "        print(\"End of video\")\n",
    "        break\n",
    "\n",
    "    # Detect and track objects in the frame using YOLO model\n",
    "    tracks = model.track(frame, persist=True, show=False)\n",
    "\n",
    "    # Start counting objects in the frame based on the detected tracks\n",
    "    counter.start_counting(frame, tracks)\n",
    "\n",
    "    # Display the frame in the window\n",
    "    cv2.imshow(\"Video\", frame)\n",
    "\n",
    "    # Check for the 'q' key to quit\n",
    "    if cv2.waitKey(25) & 0xFF == ord('q'):\n",
    "        break\n",
    "\n",
    "# Release resources\n",
    "cap.release()\n",
    "cv2.destroyAllWindows()\n"
   ]
  },
  {
   "cell_type": "code",
   "execution_count": null,
   "metadata": {},
   "outputs": [],
   "source": []
  },
  {
   "cell_type": "code",
   "execution_count": null,
   "metadata": {},
   "outputs": [],
   "source": []
  }
 ],
 "metadata": {
  "kernelspec": {
   "display_name": "Obj_Detection_env",
   "language": "python",
   "name": "python3"
  },
  "language_info": {
   "codemirror_mode": {
    "name": "ipython",
    "version": 3
   },
   "file_extension": ".py",
   "mimetype": "text/x-python",
   "name": "python",
   "nbconvert_exporter": "python",
   "pygments_lexer": "ipython3",
   "version": "3.11.5"
  }
 },
 "nbformat": 4,
 "nbformat_minor": 2
}
